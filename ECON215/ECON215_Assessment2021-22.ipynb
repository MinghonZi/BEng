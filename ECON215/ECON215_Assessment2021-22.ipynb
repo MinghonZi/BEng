{
 "cells": [
  {
   "cell_type": "markdown",
   "metadata": {},
   "source": [
    "# ECON215 Coursework"
   ]
  },
  {
   "cell_type": "markdown",
   "metadata": {},
   "source": [
    "The ECON215 Coursework Exercise is 100% of the module mark.  The deadline for submitting the assignment (*online only*, see below) is **5pm, Friday 17th December**.  All exercises in the ECON215 Coursework Exercise need to be completed using Python 3 code in **this** Jupyter Notebook file, which needs to be converted to a HTML file as follows before submitting:\n",
    "\n",
    "\n",
    "1. Within Jupyter, click on `File` then `Download as` $\\rightarrow$ `HTML (.html)`.  It will now be located in the **Downloads** directory of your computer.\n",
    "1. Save this to somewhere else on your computer.  One way to do this is by right-clicking on the file, selecting *copy*, then right-clicking in your chosen directory and selecting *paste*.\n",
    "\n",
    "\n",
    "Once this is done, the final step is as follows:\n",
    "\n",
    "3. Submit the *.html* version of your assignment via the link that will appear on Canvas shortly.\n",
    "\n",
    "The assignment is comprised of **three** sections, with the following weights: <b>Section A</b> (20\\%, 2.5 marks per question), <b>Section B</b> (10%, one task), <b>Section C</b> (70\\%, one task - a data exploration with brief discussion)."
   ]
  },
  {
   "cell_type": "markdown",
   "metadata": {},
   "source": [
    "## Section A (20 marks)"
   ]
  },
  {
   "cell_type": "markdown",
   "metadata": {},
   "source": [
    "<b>Q1</b> *(Python lists)* Can you complete the `print()` statement below, selecting the correct item in the `country_id` list in order to print `AFG`:\n"
   ]
  },
  {
   "cell_type": "code",
   "execution_count": null,
   "metadata": {
    "scrolled": true
   },
   "outputs": [
    {
     "name": "stdout",
     "output_type": "stream",
     "text": [
      "AFG\n"
     ]
    }
   ],
   "source": [
    "country_id = ['AWB', 'AFG', 'AGO']\n",
    "print(country_id[1])"
   ]
  },
  {
   "cell_type": "markdown",
   "metadata": {},
   "source": [
    "<b>Q2</b> *(Python lists)* Add an additional item, `AIA`, to the list, then print the updated version of `country_id`."
   ]
  },
  {
   "cell_type": "code",
   "execution_count": null,
   "metadata": {},
   "outputs": [
    {
     "name": "stdout",
     "output_type": "stream",
     "text": [
      "['AWB', 'AFG', 'AGO', 'AIA']\n"
     ]
    }
   ],
   "source": [
    "country_id.append('AIA')\n",
    "print(country_id)"
   ]
  },
  {
   "cell_type": "markdown",
   "metadata": {},
   "source": [
    "<b>Q3</b>  *(Python lists)* Extend `country_id` to include the additional items in `country_id_additions`, or concatenate the two lists to make an updated version of `country_id`, then print the updated version of `country_id`."
   ]
  },
  {
   "cell_type": "code",
   "execution_count": null,
   "metadata": {},
   "outputs": [
    {
     "name": "stdout",
     "output_type": "stream",
     "text": [
      "['AWB', 'AFG', 'AGO', 'AIA', 'ALA', 'ALB']\n"
     ]
    }
   ],
   "source": [
    "country_id_additions = ['ALA', 'ALB']\n",
    "country_id.extend(country_id_additions)\n",
    "print(country_id)"
   ]
  },
  {
   "cell_type": "markdown",
   "metadata": {},
   "source": [
    "<b>Q4</b> *(Python dicts)* The following creates a Python `dict` variable called `passengers_2017`, containing information on the total number of aircraft depatures and arrivals in thousands.  Show how to create a new dictionary entry for `'Manchester'` with a value 194, print the updated `passengers_2017`, then remove this `'Manchester'` entry and print `passengers_2017` again."
   ]
  },
  {
   "cell_type": "code",
   "execution_count": null,
   "metadata": {},
   "outputs": [
    {
     "name": "stdout",
     "output_type": "stream",
     "text": [
      "{'Heathrow': 474, 'Gatwick': 282, 'Manchester': 194}\n",
      "{'Heathrow': 474, 'Gatwick': 282}\n"
     ]
    }
   ],
   "source": [
    "passengers_2017 = { 'Heathrow': 474, 'Gatwick': 282}\n",
    "\n",
    "# inserting the Manchester entry then printing:\n",
    "passengers_2017['Manchester'] = 194\n",
    "print(passengers_2017)\n",
    "\n",
    "# removing the Manchester entry then printing:\n",
    "passengers_2017.pop('Manchester')\n",
    "print(passengers_2017)"
   ]
  },
  {
   "cell_type": "markdown",
   "metadata": {},
   "source": [
    "<b>Q5</b> *(Python functions)* Define a *function* `my_function` that returns the value of $f(x,y)=ax^2y$ when supplied with positional argyments $x$ and $y$ and a keyword argument $a$, and test this where  $x=3$, $y=2$ and $a=2$"
   ]
  },
  {
   "cell_type": "code",
   "execution_count": 13,
   "metadata": {},
   "outputs": [
    {
     "data": {
      "text/plain": [
       "36"
      ]
     },
     "execution_count": 13,
     "metadata": {},
     "output_type": "execute_result"
    }
   ],
   "source": [
    "def my_function(x, y, a):\n",
    "    return a*pow(x,2)*y\n",
    "\n",
    "# test\n",
    "my_function(3, 2, a=2)"
   ]
  },
  {
   "cell_type": "markdown",
   "metadata": {},
   "source": [
    "<b>Q6</b> *(Python `for` loop)* Complete the following code in order to print the items in `country_id_list`.\n"
   ]
  },
  {
   "cell_type": "code",
   "execution_count": 14,
   "metadata": {
    "scrolled": false
   },
   "outputs": [
    {
     "name": "stdout",
     "output_type": "stream",
     "text": [
      "AWB\n",
      "AFG\n",
      "AGO\n"
     ]
    }
   ],
   "source": [
    "country_id_list = ['AWB', 'AFG', 'AGO']\n",
    "\n",
    "for item in country_id_list:\n",
    "    print(item)"
   ]
  },
  {
   "cell_type": "markdown",
   "metadata": {},
   "source": [
    "<b>Q7</b> *(Python `for` loop)* Write some code, including a `for` loop, that will use the information in `list_of_tuples` defined below to create a new list, `country_codes = ['AWB', 'AFG', 'AGO']`, then print `country_codes`."
   ]
  },
  {
   "cell_type": "code",
   "execution_count": 15,
   "metadata": {
    "scrolled": true
   },
   "outputs": [
    {
     "name": "stdout",
     "output_type": "stream",
     "text": [
      "['AWB', 'AFG', 'AGO']\n"
     ]
    }
   ],
   "source": [
    "list_of_tuples = [('Aruba', 'AWB'), ('Afghanistan', 'AFG'), ('Angola', 'AGO')]\n",
    "country_codes = [code for country, code in list_of_tuples]\n",
    "print(country_codes)"
   ]
  },
  {
   "cell_type": "markdown",
   "metadata": {},
   "source": [
    "<b>Q8</b> *(selecting values)* Can you select from `nested_list` the string `'Manchester'`?\n"
   ]
  },
  {
   "cell_type": "code",
   "execution_count": 17,
   "metadata": {},
   "outputs": [
    {
     "data": {
      "text/plain": [
       "['UK',\n",
       " 2010,\n",
       " {'counties': [{'name': 'Merseyside', 'population': 1.376},\n",
       "   {'name': 'Manchester', 'population': 2.822}]}]"
      ]
     },
     "execution_count": 17,
     "metadata": {},
     "output_type": "execute_result"
    }
   ],
   "source": [
    "nested_list = [\n",
    "  \"UK\", \n",
    "  2010, \n",
    "  {\n",
    "    \"counties\": [\n",
    "      {\n",
    "        \"name\": \"Merseyside\",\n",
    "        \"population\": 1.376\n",
    "      },\n",
    "      {\n",
    "        \"name\": \"Manchester\",\n",
    "        \"population\": 2.822\n",
    "      }\n",
    "    ]\n",
    "  }\n",
    "]\n",
    "\n",
    "nested_list\n",
    "             "
   ]
  },
  {
   "cell_type": "code",
   "execution_count": 21,
   "metadata": {},
   "outputs": [
    {
     "name": "stdout",
     "output_type": "stream",
     "text": [
      "Manchester\n"
     ]
    }
   ],
   "source": [
    "# print(nested_list[2].get(\"counties\")[1].get(\"name\"))\n",
    "print(nested_list[2][\"counties\"][1][\"name\"])"
   ]
  },
  {
   "cell_type": "markdown",
   "metadata": {},
   "source": [
    "## Section B (10 marks)\n",
    "\n",
    "\n",
    "### In your solution to the Section B task, you must also include explanation of each step in your code.  For example, if you use functions belonging to a particular module, or methods belonging to a particular object, or core Python functions, you should say so.  \n",
    "\n",
    "### If you set particular options inside the functions or methods, you should explain what these do.  If you create an object of a particular type e.g. DataFrame or list, you should say so.   As many steps as possible should be explained, though it is not necessary to re-explain any identical steps within a given solution (e.g. repeated use of the same function from the same module)\n",
    "\n",
    "\n",
    "### The explanation should be included as comments inside the code cell.  Recall that there are two ways of writing comments in Python: \n",
    "\n",
    "\n",
    "```python\n",
    "# This is a single line comment\n",
    "\n",
    "\"\"\"\n",
    "This is\n",
    "a multi-line\n",
    "comment\n",
    "\"\"\"\n",
    "\n",
    "```\n"
   ]
  },
  {
   "cell_type": "markdown",
   "metadata": {},
   "source": [
    "### Section B task\n",
    "\n",
    "Using `matplotlib` and the lists of data `xdata`, `wdata`, `ydata` and `zdata` provided in the code cell below, can you create graphs of `wdata` against `xdata`, `ydata` against `xdata`, and `zdata` against `xdata`, all on the same plotting area?  \n",
    "\n",
    "\n",
    "Better answers will **specify** different line styles, marker styles and colours for each line, and will include a legend describing the lines ($w$, $y$ and $z$).  Moverover, better answers will include labels for each axis ($x$ and $f(x)$), a title for the plot, and will include text and an arrow pointing to the intersection of the lines.\n",
    "\n",
    "Moreover, please read the requirements in bold lettering above that describe the level of explanation that is required."
   ]
  },
  {
   "cell_type": "code",
   "execution_count": 28,
   "metadata": {},
   "outputs": [
    {
     "data": {
      "image/png": "[encoded data removed]",
      "text/plain": [
       "<Figure size 432x288 with 1 Axes>"
      ]
     },
     "metadata": {
      "needs_background": "light"
     },
     "output_type": "display_data"
    }
   ],
   "source": [
    "xdata = [1, 2, 3, 4, 5]\n",
    "wdata = [14, 11, 8, 5, 2]\n",
    "ydata = [11, 10.5, 8, 6.5, 3.5]\n",
    "zdata = [10, 9, 8, 7, 6]\n",
    "\n",
    "import matplotlib.pyplot as plt\n",
    "\n",
    "plt.plot(xdata, wdata, 'r--', label=\"wdata against xdata\")\n",
    "plt.plot(xdata, ydata, 'b-.', label=\"ydata against xdata\")\n",
    "plt.plot(xdata, zdata, 'g:', label=\"zdata against xdata\")\n",
    "plt.xlabel(\"x\")\n",
    "plt.ylabel(\"f(x)\")\n",
    "plt.legend(loc='lower left', shadow=True)\n",
    "plt.annotate('intersection of the lines', \n",
    "            xy=(3, 8), xycoords='data',\n",
    "            xytext=(5, 12), textcoords='data',\n",
    "            arrowprops=dict(arrowstyle='fancy', connectionstyle=\"arc3,rad=.2\", facecolor='black'),\n",
    "            horizontalalignment='right', verticalalignment='top',\n",
    "            )\n",
    "plt.grid()\n",
    "plt.title(\"Section B Task\")\n",
    "plt.show()"
   ]
  },
  {
   "attachments": {},
   "cell_type": "markdown",
   "metadata": {},
   "source": [
    "## Section C (70 marks)\n",
    "\n",
    "The effects of COVID on the economy have been widespread, and the data exploration task for Section C is to investigate and visualise how the air transport sector has been affected.\n",
    "\n",
    "A large amount of UK airport data is available from the following website:\n",
    "\n",
    "https://www.caa.co.uk/data-and-analysis/uk-aviation-market/airports/datasets/uk-airport-data/\n",
    "\n",
    "An example of an *annual* data set from here (clicking the \"2020\" link, which appears under \"December\") is the following file, available on Canvas with this Jupyter notebook: *Table_09_Terminal_and_Transit_Passengers.csv*.  The column *total_pax_tp* contains data for the total number of passengers this period (*total_pax_lp* contains data for the total number of passengers last period).\n",
    "\n",
    "An example of a *monthly* data set from here (clicking the \"January\" link for 2020) is the following file, available on Canvas with this Jupyter notebook: *Table_10_2_Domestic_Terminal_Passenger_Traffic.csv*.  The column *total_pax_this_period* contains data for the total number of passengers this period.\n",
    "\n",
    "### The data exploration task specifics\n",
    "By downloading the annual data files or the monthly data files or both from the website above, and reading these into Python, <mark>your brief</mark> is to investigate the impact of COVID on the air transport sector <mark>via visualisation</mark> and <mark>descriptive statistics</mark> using Python, and to explain briefly in Markdown cells what you are investigating as you go along.\n",
    "\n",
    "There is other data available for download on the same webpage, e.g. data about flight cancellations - this can be used as well if desired, **but not as a replacement for the annual/monthly data files described above**.\n",
    "\n",
    "The investigation and commentary should be put below the next cell, and should start with a heading.  There should be 1-2 figures (which can each contain more than one plot), and 2-4 pandas dataframes displayed clearly.  Figures or plots should have titles, labels, and should be well presented.  Within the code cells, also, there should be brief comments to explain what each line of code does.  \n",
    "\n",
    "\n",
    "**IMPORTANT NOTE**: If you are unable to do this task by reading the annual/monthly csv files directly into Python, **up to half marks** for this section are still available for an investigation based on a modified csv file containing part of the data or for a csv file comprised of values picked out from multiple csv files (possibly for different years or months or both).  That is to say, you may manually take data from the annual/monthly csv files, put it in another csv file, and read that into a DataFrame for your data exploration.  If you do this, you should make it clear what your modified or manually created csv file contains by a brief description and by using the \".head()\" method to show the first few lines.\n",
    "\n"
   ]
  },
  {
   "cell_type": "code",
   "execution_count": null,
   "metadata": {},
   "outputs": [],
   "source": [
    "##### Data Investigation to be put below here #####"
   ]
  },
  {
   "cell_type": "markdown",
   "metadata": {},
   "source": [
    "# Heading here"
   ]
  },
  {
   "cell_type": "code",
   "execution_count": 1,
   "metadata": {},
   "outputs": [
    {
     "data": {
      "text/plain": [
       "<AxesSubplot:xlabel='this_period'>"
      ]
     },
     "execution_count": 1,
     "metadata": {},
     "output_type": "execute_result"
    },
    {
     "data": {
      "image/png": "[encoded data removed]",
      "text/plain": [
       "<Figure size 432x288 with 1 Axes>"
      ]
     },
     "metadata": {
      "needs_background": "light"
     },
     "output_type": "display_data"
    }
   ],
   "source": [
    "import pandas as pd\n",
    "from pathlib import Path\n",
    "\n",
    "table_paths = Path().rglob(\"*-*/*Terminal_and_Transit_Passengers*\")\n",
    "frames = [pd.read_csv(table_path).groupby([\"this_period\"])[[\"total_pax_this_period\"]].sum() for table_path in table_paths]\n",
    "result = pd.concat(frames)\n",
    "result.index = pd.to_datetime(result.index, format=\"%Y%m\")\n",
    "result.plot()"
   ]
  },
  {
   "cell_type": "code",
   "execution_count": null,
   "metadata": {},
   "outputs": [],
   "source": []
  },
  {
   "cell_type": "code",
   "execution_count": null,
   "metadata": {},
   "outputs": [],
   "source": [
    "# import itertools\n",
    "# for year, month in itertools.product(range(2019, 2022), range(1, 13)):\n",
    "#     Terminal_and_Transit_Passengers = pd.read_csv(f\"./data/{year}-{month}/\")"
   ]
  }
 ],
 "metadata": {
  "kernelspec": {
   "display_name": "Python 3",
   "language": "python",
   "name": "python3"
  },
  "language_info": {
   "codemirror_mode": {
    "name": "ipython",
    "version": 3
   },
   "file_extension": ".py",
   "mimetype": "text/x-python",
   "name": "python",
   "nbconvert_exporter": "python",
   "pygments_lexer": "ipython3",
   "version": "3.9.4"
  }
 },
 "nbformat": 4,
 "nbformat_minor": 2
}
