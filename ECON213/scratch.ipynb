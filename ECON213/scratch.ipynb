{
 "cells": [
  {
   "cell_type": "code",
   "execution_count": 25,
   "metadata": {},
   "outputs": [],
   "source": [
    "import numpy as np\n",
    "import pandas as pd\n",
    "import matplotlib.pyplot as plt"
   ]
  },
  {
   "cell_type": "markdown",
   "metadata": {},
   "source": [
    "[How do I select a subset of a DataFrame?](https://pandas.pydata.org/pandas-docs/version/1.0.2/getting_started/intro_tutorials/03_subset_data.html)\n",
    "\n",
    "[user_guide/missing_data](https://pandas.pydata.org/docs/user_guide/missing_data.html)"
   ]
  },
  {
   "cell_type": "code",
   "execution_count": 26,
   "metadata": {},
   "outputs": [],
   "source": [
    "FLFP = pd.read_csv('./econometrics/female-labour-force-participation.csv', na_values='..').loc[:, ['Country Name','2010 [YR2010]','2015 [YR2015]']].dropna()\n",
    "SR   = pd.read_csv('./econometrics/saving-rate.csv'                      , na_values='..').loc[:, ['Country Name','2010 [YR2010]','2015 [YR2015]']].dropna()\n",
    "UR   = pd.read_csv('./econometrics/unemployment-rate.csv'                , na_values='..').loc[:, ['Country Name','2010 [YR2010]','2015 [YR2015]']].dropna()\n",
    "NSPC = pd.read_csv('./econometrics/net-saving-per-capital.csv'           , na_values='..').loc[:, ['Country Name','2010 [YR2010]','2015 [YR2015]']].dropna()"
   ]
  },
  {
   "cell_type": "markdown",
   "metadata": {},
   "source": [
    "[user_guide/reshaping](https://pandas.pydata.org/docs/user_guide/reshaping.html)"
   ]
  },
  {
   "cell_type": "code",
   "execution_count": 27,
   "metadata": {},
   "outputs": [
    {
     "name": "stdout",
     "output_type": "stream",
     "text": [
      "                   2010 [YR2010]                                     \\\n",
      "factor                      FLFP         NSPC         SR         UR   \n",
      "Country Name                                                          \n",
      "Afghanistan            14.709000          NaN        NaN   7.821000   \n",
      "Albania                45.693001   333.913678   8.475584  14.200000   \n",
      "Algeria                14.379000  1272.297965  28.854228   9.960000   \n",
      "Angola                 75.282997  -124.887662  -2.815263   9.863000   \n",
      "Arab World             20.748908          NaN  20.100354   9.959137   \n",
      "...                          ...          ...        ...        ...   \n",
      "West Bank and Gaza     14.841000          NaN        NaN  23.730000   \n",
      "World                  49.345183          NaN  10.219548   5.734992   \n",
      "Yemen, Rep.            10.049000          NaN        NaN  17.820000   \n",
      "Zambia                 71.059998   111.725299   9.648299  13.190000   \n",
      "Zimbabwe               77.360001  -170.658103 -18.882630   5.272000   \n",
      "\n",
      "                   2015 [YR2015]                                    \n",
      "factor                      FLFP        NSPC         SR         UR  \n",
      "Country Name                                                        \n",
      "Afghanistan            18.716999         NaN        NaN   8.864000  \n",
      "Albania                47.675999   -1.635535   0.213407  17.080000  \n",
      "Algeria                15.237000  775.240090  19.363543  11.200000  \n",
      "Angola                 75.402000  285.946267   7.997221   7.281000  \n",
      "Arab World             20.867171         NaN  10.386067  10.266855  \n",
      "...                          ...         ...        ...        ...  \n",
      "West Bank and Gaza     19.038000         NaN        NaN  25.820000  \n",
      "World                  48.794115         NaN  11.883615   5.446447  \n",
      "Yemen, Rep.             6.133000         NaN        NaN  13.807000  \n",
      "Zambia                 70.099998  234.740532  19.075136   7.750000  \n",
      "Zimbabwe               78.113998 -265.203681 -18.882831   5.086000  \n",
      "\n",
      "[232 rows x 8 columns]\n"
     ]
    }
   ],
   "source": [
    "A = pd.concat([FLFP, SR, UR, NSPC], keys=['FLFP', 'SR', 'UR', 'NSPC'], names=['factor', 'factor index'])\n",
    "A = A.reset_index().drop('factor index', axis=1)\n",
    "A = A.pivot(index='Country Name', columns='factor')\n",
    "\n",
    "print(A)"
   ]
  }
 ],
 "metadata": {
  "interpreter": {
   "hash": "aa0a07b3ab6c77df84609df0223257410012136ad8fc168ad4ed429b9b1c1a39"
  },
  "kernelspec": {
   "display_name": "Python 3.10.1 64-bit (system)",
   "language": "python",
   "name": "python3"
  },
  "language_info": {
   "codemirror_mode": {
    "name": "ipython",
    "version": 3
   },
   "file_extension": ".py",
   "mimetype": "text/x-python",
   "name": "python",
   "nbconvert_exporter": "python",
   "pygments_lexer": "ipython3",
   "version": "3.10.2"
  },
  "orig_nbformat": 4
 },
 "nbformat": 4,
 "nbformat_minor": 2
}
